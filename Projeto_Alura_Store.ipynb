{
  "nbformat": 4,
  "nbformat_minor": 0,
  "metadata": {
    "colab": {
      "provenance": [],
      "authorship_tag": "ABX9TyOqKd6H1QVz0MLSAJ4ohXQO",
      "include_colab_link": true
    },
    "kernelspec": {
      "name": "python3",
      "display_name": "Python 3"
    },
    "language_info": {
      "name": "python"
    }
  },
  "cells": [
    {
      "cell_type": "markdown",
      "metadata": {
        "id": "view-in-github",
        "colab_type": "text"
      },
      "source": [
        "<a href=\"https://colab.research.google.com/github/LucasLima1811/ChallengeAluraStore/blob/main/Projeto_Alura_Store.ipynb\" target=\"_parent\"><img src=\"https://colab.research.google.com/assets/colab-badge.svg\" alt=\"Open In Colab\"/></a>"
      ]
    },
    {
      "cell_type": "markdown",
      "source": [
        "#Importação de Dados"
      ],
      "metadata": {
        "id": "rMqRuTIRtS10"
      }
    },
    {
      "cell_type": "code",
      "execution_count": null,
      "metadata": {
        "id": "3N5MVkfEtQbk"
      },
      "outputs": [],
      "source": [
        "# Importação de bibliotecas\n",
        "import matplotlib.pyplot as plt\n",
        "import pandas as pd\n",
        "\n",
        "url = \"https://raw.githubusercontent.com/alura-es-cursos/challenge1-data-science/refs/heads/main/base-de-dados-challenge-1/loja_1.csv\"\n",
        "url2 = \"https://raw.githubusercontent.com/alura-es-cursos/challenge1-data-science/refs/heads/main/base-de-dados-challenge-1/loja_2.csv\"\n",
        "url3 = \"https://raw.githubusercontent.com/alura-es-cursos/challenge1-data-science/refs/heads/main/base-de-dados-challenge-1/loja_3.csv\"\n",
        "url4 = \"https://raw.githubusercontent.com/alura-es-cursos/challenge1-data-science/refs/heads/main/base-de-dados-challenge-1/loja_4.csv\"\n",
        "\n",
        "loja1 = pd.read_csv(url)\n",
        "loja2 = pd.read_csv(url2)\n",
        "loja3 = pd.read_csv(url3)\n",
        "loja4 = pd.read_csv(url4)\n",
        "\n",
        "loja1.head()"
      ]
    },
    {
      "cell_type": "markdown",
      "source": [
        "#1. Análise de Faturamento"
      ],
      "metadata": {
        "id": "Fx1tsXJEtbs7"
      }
    },
    {
      "cell_type": "code",
      "source": [
        "# Listas de preços por loja\n",
        "loja_1 = loja1['Preço'].tolist()\n",
        "loja_2 = loja2['Preço'].tolist()\n",
        "loja_3 = loja3['Preço'].tolist()\n",
        "loja_4 = loja4['Preço'].tolist()\n",
        "\n",
        "# Somatório de vendas por loja\n",
        "faturamento_loja1 = sum(loja_1)\n",
        "faturamento_loja2 = sum(loja_2)\n",
        "faturamento_loja3 = sum(loja_3)\n",
        "faturamento_loja4 = sum(loja_4)\n",
        "faturamento_total = faturamento_loja1+faturamento_loja2+faturamento_loja3+faturamento_loja4\n",
        "\n",
        "# Impressão dos resultados por loja e total\n",
        "print(f'FATURAMENTO DAS LOJAS - ALURA STORE\\n')\n",
        "print(f'LOJA 1: {faturamento_loja1:,.2f}')\n",
        "print(f'LOJA 2: {faturamento_loja2:,.2f}')\n",
        "print(f'LOJA 3: {faturamento_loja3:,.2f}')\n",
        "print(f'LOJA 4: {faturamento_loja4:,.2f}')\n",
        "print(f'\\nFATURAMENTO TOTAL: {faturamento_total:,.2f}')"
      ],
      "metadata": {
        "id": "5TwrEwPvtaKz"
      },
      "execution_count": null,
      "outputs": []
    },
    {
      "cell_type": "code",
      "source": [
        "# Gráfico de Barras\n",
        "faturamento_loja1 = sum(loja1['Preço'].tolist())\n",
        "faturamento_loja2 = sum(loja2['Preço'].tolist())\n",
        "faturamento_loja3 = sum(loja3['Preço'].tolist())\n",
        "faturamento_loja4 = sum(loja4['Preço'].tolist())\n",
        "\n",
        "lojas = ['Loja 1', 'Loja 2', 'Loja 3', 'Loja 4']\n",
        "faturamentos = [faturamento_loja1, faturamento_loja2, faturamento_loja3, faturamento_loja4]\n",
        "\n",
        "plt.figure(figsize=(8, 5))\n",
        "plt.bar(lojas, faturamentos, color=['#1f77b4', '#1f77b4', '#1f77b4', '#1f77b4'])\n",
        "\n",
        "plt.title('Faturamento por Loja - Alura Store', fontsize=14, pad=20)\n",
        "plt.xlabel('Lojas', fontsize=12)\n",
        "plt.ylabel('Faturamento (R$)', fontsize=12)\n",
        "plt.grid(True, axis='y', linestyle='--', alpha=0.7)\n",
        "\n",
        "for i, v in enumerate(faturamentos):\n",
        "    plt.text(i, v, f'R${v:,.2f}', ha='center', va='bottom')\n",
        "\n",
        "plt.tight_layout()\n",
        "plt.savefig('faturamento_lojas.png')"
      ],
      "metadata": {
        "id": "FOl6t-vVE8Xo"
      },
      "execution_count": null,
      "outputs": []
    },
    {
      "cell_type": "markdown",
      "source": [
        "#2. Vendas por Categoria"
      ],
      "metadata": {
        "id": "V_4CzTvsvuXo"
      }
    },
    {
      "cell_type": "code",
      "source": [
        "# Separando produtos por categoria e verificando quantidades\n",
        "vendas_categoria_loja1 = loja1['Categoria do Produto'].value_counts()\n",
        "vendas_categoria_loja2 = loja2['Categoria do Produto'].value_counts()\n",
        "vendas_categoria_loja3 = loja3['Categoria do Produto'].value_counts()\n",
        "vendas_categoria_loja4 = loja4['Categoria do Produto'].value_counts()\n",
        "\n",
        "# Imprmindo os resultados\n",
        "print('DISTRIBUIÇÃO DE VENDAS POR CATEGORIA - ALURA STORE\\n')\n",
        "print('-' * 30)\n",
        "print('LOJA - 1\\n',vendas_categoria_loja1.reset_index(),'\\n')\n",
        "print('-' * 30)\n",
        "print('LOJA - 2\\n',vendas_categoria_loja2.reset_index(),'\\n')\n",
        "print('-' * 30)\n",
        "print('LOJA - 3\\n',vendas_categoria_loja3.reset_index(),'\\n')\n",
        "print('-' * 30)\n",
        "print('LOJA - 4\\n',vendas_categoria_loja4.reset_index(),'\\n')\n",
        "print('-' * 30)"
      ],
      "metadata": {
        "id": "x4JygZwvtsTC"
      },
      "execution_count": null,
      "outputs": []
    },
    {
      "cell_type": "code",
      "source": [
        "# Gráfico de Pizza com Legendas\n",
        "df_loja1 = vendas_categoria_loja1.reset_index()\n",
        "df_loja2 = vendas_categoria_loja2.reset_index()\n",
        "df_loja3 = vendas_categoria_loja3.reset_index()\n",
        "df_loja4 = vendas_categoria_loja4.reset_index()\n",
        "\n",
        "df_loja1.columns = ['Categoria', 'Quantidade']\n",
        "df_loja2.columns = ['Categoria', 'Quantidade']\n",
        "df_loja3.columns = ['Categoria', 'Quantidade']\n",
        "df_loja4.columns = ['Categoria', 'Quantidade']\n",
        "\n",
        "fig, axs = plt.subplots(2, 2, figsize=(11, 9))\n",
        "fig.suptitle('Distribuição de Vendas por Categoria - Alura Store', fontsize=16)\n",
        "\n",
        "lojas = [df_loja1, df_loja2, df_loja3, df_loja4]\n",
        "titulos = ['Loja 1', 'Loja 2', 'Loja 3', 'Loja 4']\n",
        "\n",
        "for i, (df, titulo) in enumerate(zip(lojas, titulos)):\n",
        "    ax = axs[i // 2, i % 2]\n",
        "\n",
        "    wedges, texts, autotexts = ax.pie(\n",
        "        df['Quantidade'],\n",
        "        autopct='%1.1f%%',\n",
        "        startangle=20,\n",
        "        colors=plt.cm.Paired.colors\n",
        "    )\n",
        "\n",
        "    ax.legend(wedges, df['Categoria'], title=\"Categorias\", loc=\"center left\", bbox_to_anchor=(1, 0, 0.5, 1))\n",
        "    ax.set_title(titulo)\n",
        "    ax.axis('equal')\n",
        "\n",
        "plt.tight_layout(rect=[0, 0, 0.85, 0.95])\n",
        "plt.show()"
      ],
      "metadata": {
        "id": "hiVzAz08Emd6"
      },
      "execution_count": null,
      "outputs": []
    },
    {
      "cell_type": "markdown",
      "source": [
        "#3. Média de Avaliação por Loja"
      ],
      "metadata": {
        "id": "eKMLZ3r2ziaI"
      }
    },
    {
      "cell_type": "code",
      "source": [
        "avaliacao_loja1 = loja1['Avaliação da compra']\n",
        "avaliacao_loja2 = loja2['Avaliação da compra']\n",
        "avaliacao_loja3 = loja3['Avaliação da compra']\n",
        "avaliacao_loja4 = loja4['Avaliação da compra']\n",
        "\n",
        "df_avaliacao_loja1 = avaliacao_loja1\n",
        "df_avaliacao_loja2 = avaliacao_loja2\n",
        "df_avaliacao_loja3 = avaliacao_loja3\n",
        "df_avaliacao_loja4 = avaliacao_loja4\n",
        "\n",
        "# Verificação da média de avaliação de cada loja\n",
        "df_media_loja1 = df_avaliacao_loja1.mean()\n",
        "df_media_loja2 = df_avaliacao_loja2.mean()\n",
        "df_media_loja3 = df_avaliacao_loja3.mean()\n",
        "df_media_loja4 = df_avaliacao_loja4.mean()\n",
        "\n",
        "print('MÉDIA DE AVALIAÇÃO POR LOJA - ALURA STORE\\n')\n",
        "print(f'Média de Avaliação - Loja 1: {df_media_loja1:,.2f}')\n",
        "print(f'Média de Avaliação - Loja 2: {df_media_loja2:,.2f}')\n",
        "print(f'Média de Avaliação - Loja 3: {df_media_loja3:,.2f}')\n",
        "print(f'Média de Avaliação - Loja 4: {df_media_loja4:,.2f}')"
      ],
      "metadata": {
        "id": "L0OdH1Y5zlZP"
      },
      "execution_count": null,
      "outputs": []
    },
    {
      "cell_type": "code",
      "source": [
        "# Gráfico de Barras\n",
        "df_media_loja1 = loja1['Avaliação da compra'].mean()\n",
        "df_media_loja2 = loja2['Avaliação da compra'].mean()\n",
        "df_media_loja3 = loja3['Avaliação da compra'].mean()\n",
        "df_media_loja4 = loja4['Avaliação da compra'].mean()\n",
        "\n",
        "lojas = ['Loja 1', 'Loja 2', 'Loja 3', 'Loja 4']\n",
        "medias = [df_media_loja1, df_media_loja2, df_media_loja3, df_media_loja4]\n",
        "\n",
        "plt.figure(figsize=(8, 5))\n",
        "plt.bar(lojas, medias, color=['#1f77b4', '#ff7f0e', '#2ca02c', '#d62728'], alpha=0.8)\n",
        "\n",
        "plt.title('Média de Avaliação por Loja - Alura Store', fontsize=14, pad=20)\n",
        "plt.xlabel('Lojas', fontsize=12)\n",
        "plt.ylabel('Média de Avaliação', fontsize=12)\n",
        "plt.grid(True, axis='y', linestyle='--', alpha=0.7)\n",
        "plt.ylim(0, 5)\n",
        "\n",
        "for i, v in enumerate(medias):\n",
        "    plt.text(i, v + 0.1, f'{v:.2f}', ha='center', va='bottom', fontsize=10)\n",
        "\n",
        "plt.tight_layout()\n",
        "plt.savefig('media_avaliacao_lojas_bar.png')"
      ],
      "metadata": {
        "id": "n9NJvcHvF7jQ"
      },
      "execution_count": null,
      "outputs": []
    },
    {
      "cell_type": "markdown",
      "source": [
        "#4. Produtos Mais e Menos Vendidos"
      ],
      "metadata": {
        "id": "jxXfqrk_5St5"
      }
    },
    {
      "cell_type": "code",
      "source": [
        "print('PRODUTOS MAIS E MENOS VENDIDOS - ALURA STORE')\n",
        "print('-' * 30)\n",
        "\n",
        "# Função para verificar os 05 produtos mais vendidos e menos vendidos\n",
        "def verificar_produtos_vendidos(df, nome_loja):\n",
        "    contagem_produtos = df['Produto'].value_counts()\n",
        "\n",
        "    top_5 = contagem_produtos.head(5)\n",
        "    bottom_5 = contagem_produtos.tail(5)\n",
        "\n",
        "    print(f'\\n{nome_loja} - PRODUTOS MAIS VENDIDOS:')\n",
        "    for produto, quantidade in top_5.items():\n",
        "        print(f'{produto}: {quantidade}')\n",
        "\n",
        "    print(f'\\n{nome_loja} - PRODUTOS MENOS VENDIDOS:')\n",
        "    for produto, quantidade in bottom_5.items():\n",
        "        print(f'{produto}: {quantidade}')\n",
        "\n",
        "\n",
        "\n",
        "# Verifica produtos para cada loja\n",
        "verificar_produtos_vendidos(loja1, 'Loja 1'.upper())\n",
        "print('-' * 30)\n",
        "verificar_produtos_vendidos(loja2, 'Loja 2'.upper())\n",
        "print('-' * 30)\n",
        "verificar_produtos_vendidos(loja3, 'Loja 3'.upper())\n",
        "print('-' * 30)\n",
        "verificar_produtos_vendidos(loja4, 'Loja 4'.upper())\n",
        "print('-' * 30)\n"
      ],
      "metadata": {
        "id": "wdGchPAO2JoE"
      },
      "execution_count": null,
      "outputs": []
    },
    {
      "cell_type": "markdown",
      "source": [
        "#5. Frete Médio por Loja"
      ],
      "metadata": {
        "id": "Zo6wKOlB6kMT"
      }
    },
    {
      "cell_type": "code",
      "source": [
        "frete_loja1 = loja1['Frete']\n",
        "frete_loja2 = loja2['Frete']\n",
        "frete_loja3 = loja3['Frete']\n",
        "frete_loja4 = loja4['Frete']\n",
        "\n",
        "df_frete_loja1 = frete_loja1\n",
        "df_frete_loja2 = frete_loja2\n",
        "df_frete_loja3 = frete_loja3\n",
        "df_frete_loja4 = frete_loja4\n",
        "\n",
        "# Verificação do frete médio de cada loja\n",
        "df_media_frete_loja1 = frete_loja1.mean()\n",
        "df_media_frete_loja2 = frete_loja2.mean()\n",
        "df_media_frete_loja3 = frete_loja3.mean()\n",
        "df_media_frete_loja4 = frete_loja4.mean()\n",
        "\n",
        "print('FRETE MÉDIO POR LOJA - ALURA STORE\\n')\n",
        "print(f'Frete Médio - Loja 1: {df_media_frete_loja1:,.2f}')\n",
        "print(f'Frete Médio - Loja 2: {df_media_frete_loja2:,.2f}')\n",
        "print(f'Frete Médio - Loja 3: {df_media_frete_loja3:,.2f}')\n",
        "print(f'Frete Médio - Loja 4: {df_media_frete_loja4:,.2f}')"
      ],
      "metadata": {
        "id": "Rpr7oujjA-cF"
      },
      "execution_count": null,
      "outputs": []
    },
    {
      "cell_type": "code",
      "source": [
        "# Gráfico Trama do Caule\n",
        "df_media_frete_loja1 = loja1['Frete'].mean()\n",
        "df_media_frete_loja2 = loja2['Frete'].mean()\n",
        "df_media_frete_loja3 = loja3['Frete'].mean()\n",
        "df_media_frete_loja4 = loja4['Frete'].mean()\n",
        "\n",
        "lojas = ['Loja 1', 'Loja 2', 'Loja 3', 'Loja 4']\n",
        "medias_frete = [df_media_frete_loja1, df_media_frete_loja2, df_media_frete_loja3, df_media_frete_loja4]\n",
        "\n",
        "plt.figure(figsize=(8, 6))\n",
        "plt.stem(lojas, medias_frete, linefmt='b-', markerfmt='bo', basefmt='k-')\n",
        "\n",
        "plt.title('Frete Médio por Loja - Alura Store', fontsize=14, pad=20)\n",
        "plt.xlabel('Lojas', fontsize=12)\n",
        "plt.ylabel('Frete Médio (R$)', fontsize=12)\n",
        "plt.grid(True, axis='y', linestyle='--', alpha=0.7)\n",
        "\n",
        "for i, v in enumerate(medias_frete):\n",
        "    plt.text(i, v + 0.5, f'{v:.2f}', ha='center', va='bottom', fontsize=10)\n",
        "\n",
        "plt.tight_layout()\n",
        "plt.savefig('media_frete_lojas_stem.png')"
      ],
      "metadata": {
        "id": "9vjwkz4A7gs3"
      },
      "execution_count": null,
      "outputs": []
    },
    {
      "cell_type": "code",
      "source": [],
      "metadata": {
        "id": "0Bwv8UAc_n0h"
      },
      "execution_count": null,
      "outputs": []
    }
  ]
}